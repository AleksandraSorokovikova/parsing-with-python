{
 "cells": [
  {
   "cell_type": "markdown",
   "metadata": {},
   "source": [
    "# Сравнение различных библиотек для парсинга на Python"
   ]
  },
  {
   "cell_type": "markdown",
   "metadata": {},
   "source": [
    "## 1. Какие особенности сложны с точки зрения парсинга \n"
   ]
  },
  {
   "cell_type": "markdown",
   "metadata": {},
   "source": [
    "## 2. Ключевые возможности каждой из библиотек (BeautifulSoup, Scrapy, lxml)"
   ]
  },
  {
   "cell_type": "markdown",
   "metadata": {},
   "source": [
    "### Scrapy\n",
    "1. Работает на разных платформах (Linux, Windows, Mac OS)\n",
    "2. Имеет встроенные селекторы `XPath` и `CSS`\n",
    "3. Одна из самых быстрых библиотек\n",
    "4. Потребляет меньше памяти\n",
    "5. Построен на основе Twisted (асинхронной сетевой структуры)\n",
    "6. Извлекает данные не только с одной страницы, а может \"ползти\" по другим страницам от корневого URL \n",
    "7. Можно определить правила для обхода URL"
   ]
  },
  {
   "cell_type": "markdown",
   "metadata": {},
   "source": [
    "## 3. Изучаем структуру трех сайтов (Хабр, WildBerries, Циан) "
   ]
  },
  {
   "cell_type": "markdown",
   "metadata": {},
   "source": [
    "## 4. Каких возможностей библиотек не хватает"
   ]
  },
  {
   "cell_type": "markdown",
   "metadata": {},
   "source": [
    "### Scrapy\n",
    "1. На динамически загружающиеся данные есть ограничения, которые необходимо обходить, используя другие библиотеки\n",
    "2. Может работать некорректно, если названия классов генерируются автоматически при каждой загрузке с помощью javascript\n",
    "3. Неоднозначная обработка URL при заранее определенных правилах (может неоднократно ходить по URL, которые есть в стоп-листе, при этом не начиная работу с разрешенными URL)"
   ]
  },
  {
   "cell_type": "markdown",
   "metadata": {},
   "source": [
    "## 5. Тестируем библиотеки"
   ]
  },
  {
   "cell_type": "markdown",
   "metadata": {},
   "source": [
    "### Замеряем время работы"
   ]
  },
  {
   "cell_type": "markdown",
   "metadata": {},
   "source": [
    "### Замеряем используемую память"
   ]
  },
  {
   "cell_type": "code",
   "execution_count": null,
   "metadata": {},
   "outputs": [],
   "source": []
  }
 ],
 "metadata": {
  "kernelspec": {
   "display_name": "Python 3",
   "language": "python",
   "name": "python3"
  },
  "language_info": {
   "codemirror_mode": {
    "name": "ipython",
    "version": 3
   },
   "file_extension": ".py",
   "mimetype": "text/x-python",
   "name": "python",
   "nbconvert_exporter": "python",
   "pygments_lexer": "ipython3",
   "version": "3.7.6"
  }
 },
 "nbformat": 4,
 "nbformat_minor": 4
}
