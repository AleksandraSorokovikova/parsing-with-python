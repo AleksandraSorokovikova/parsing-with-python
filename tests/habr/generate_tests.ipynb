{
 "cells": [
  {
   "cell_type": "code",
   "execution_count": null,
   "metadata": {},
   "outputs": [],
   "source": [
    "import requests\n",
    "\n",
    "for i in range(450000, 450100):\n",
    "    response = requests.get('https://habr.com/ru/post/{0}/'.format(i))\n",
    "    if response.status_code == 200:\n",
    "        response.encoding = 'utf-8'\n",
    "    \n",
    "        file = open('tests_source/test{0}.html'.format(i), 'w')\n",
    "        file.write(response.text)\n",
    "        file.close()"
   ]
  },
  {
   "cell_type": "code",
   "execution_count": null,
   "metadata": {},
   "outputs": [],
   "source": []
  }
 ],
 "metadata": {
  "kernelspec": {
   "display_name": "Python 3",
   "language": "python",
   "name": "python3"
  },
  "language_info": {
   "codemirror_mode": {
    "name": "ipython",
    "version": 3
   },
   "file_extension": ".py",
   "mimetype": "text/x-python",
   "name": "python",
   "nbconvert_exporter": "python",
   "pygments_lexer": "ipython3",
   "version": "3.7.6"
  }
 },
 "nbformat": 4,
 "nbformat_minor": 4
}
