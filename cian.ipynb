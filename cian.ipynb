{
 "cells": [
  {
   "cell_type": "code",
   "execution_count": 1,
   "id": "2a3dc16c",
   "metadata": {},
   "outputs": [],
   "source": [
    "from bs4 import BeautifulSoup"
   ]
  },
  {
   "cell_type": "code",
   "execution_count": 45,
   "id": "af29a23a",
   "metadata": {},
   "outputs": [],
   "source": [
    "def search(types, response):\n",
    "    element = response.select_one(types)\n",
    "    return element.text.strip()"
   ]
  },
  {
   "cell_type": "code",
   "execution_count": 48,
   "id": "fbf41dc9",
   "metadata": {},
   "outputs": [],
   "source": [
    "path = 'tests/cian/test_source/test1.html'\n",
    "with open(path) as fp:\n",
    "    response = BeautifulSoup(fp, 'html.parser')\n",
    "    cards = response.select(r'[data-name=\"CardComponent\"]')\n",
    "    for card in cards:\n",
    "        name = search(r'[data-name=\"TitleComponent\"]', card)\n",
    "        price = search(r'[data-mark=\"MainPrice\"]', card)\n",
    "        location = search(r'[data-name=\"SpecialGeo\"]', card)\n",
    "        result = {'name': name, 'price': price, 'location' : location}"
   ]
  },
  {
   "cell_type": "code",
   "execution_count": null,
   "id": "c4e9d48f",
   "metadata": {},
   "outputs": [],
   "source": []
  }
 ],
 "metadata": {
  "kernelspec": {
   "display_name": "Python 3 (ipykernel)",
   "language": "python",
   "name": "python3"
  },
  "language_info": {
   "codemirror_mode": {
    "name": "ipython",
    "version": 3
   },
   "file_extension": ".py",
   "mimetype": "text/x-python",
   "name": "python",
   "nbconvert_exporter": "python",
   "pygments_lexer": "ipython3",
   "version": "3.9.7"
  }
 },
 "nbformat": 4,
 "nbformat_minor": 5
}
