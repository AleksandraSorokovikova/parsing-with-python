{
 "cells": [
  {
   "cell_type": "markdown",
   "metadata": {},
   "source": [
    "## Парсер на основе библиотеки Scrapy"
   ]
  },
  {
   "cell_type": "code",
   "execution_count": 1,
   "metadata": {},
   "outputs": [],
   "source": [
    "import platform\n",
    "import scrapy\n",
    "import logging\n",
    "from scrapy.crawler import CrawlerProcess\n",
    "import pandas as pd\n",
    "from w3lib.html import strip_html5_whitespace as shw\n",
    "from IPython.core.interactiveshell import InteractiveShell\n",
    "import warnings\n",
    "warnings.filterwarnings('ignore')\n",
    "InteractiveShell.ast_node_interactivity = \"all\""
   ]
  },
  {
   "cell_type": "markdown",
   "metadata": {},
   "source": [
    "### Настройка пайплайнов\n",
    "Класс `JsonWriterPipeline` создает пайплайн, в который пишет все найденные элементы в формат `JSON`.\n",
    "Все данные будут сохраняться в два файл: первый с расширением `.json`, второй с расширением `.jl` (в нем каждый элемент json находится на новой странице)."
   ]
  },
  {
   "cell_type": "code",
   "execution_count": 2,
   "metadata": {},
   "outputs": [],
   "source": [
    "import json\n",
    "\n",
    "class JsonWriterPipeline(object):\n",
    "\n",
    "    def open_spider(self, spider):\n",
    "        self.file = open('data/wildberries/wildberries_data.jl', 'w')\n",
    "\n",
    "    def close_spider(self, spider):\n",
    "        self.file.close()\n",
    "\n",
    "    def process_item(self, item, spider):\n",
    "        line = json.dumps(dict(item)) + \"\\n\"\n",
    "        self.file.write(line)\n",
    "        return item"
   ]
  },
  {
   "cell_type": "markdown",
   "metadata": {},
   "source": [
    "#### Список предметов, которые нужно искать"
   ]
  },
  {
   "cell_type": "markdown",
   "metadata": {},
   "source": [
    "### Создание класса для парсинга\n",
    "В списке `start_urls` генерируются URL страниц, из которых нужно извлечь информацию: \n",
    "- `name` - наименование продукта\n",
    "- `current_price` - текущая цена\n",
    "- `old_price` - старая цена\n",
    "- `img_url` - ссылка на фотографию"
   ]
  },
  {
   "cell_type": "code",
   "execution_count": 3,
   "metadata": {},
   "outputs": [],
   "source": [
    "class QuotesSpider(scrapy.Spider):\n",
    "    name = \"quotes\"\n",
    "    start_urls = [\n",
    "        'file:/Users/alexandrasorokovikova/2 курс/Формальные языки/Проект парсеры/parsing-with-python/tests/wildberries/test_source/test{0}.html'.format(i) for i in range(0, 52)\n",
    "    ]\n",
    "    custom_settings = {\n",
    "        'LOG_LEVEL': logging.WARNING,\n",
    "        'ITEM_PIPELINES': {'__main__.JsonWriterPipeline': 1},\n",
    "        'FEED_FORMAT':'json',                               \n",
    "        'FEED_URI': 'data/wildberries/wildberries_data.json'                      \n",
    "    }\n",
    "    \n",
    "    def parse(self, response):\n",
    "        prices = response.xpath(\"//span[@class='price-commission__current-price']/text()\").get()\n",
    "        yield {\n",
    "            'name': response.xpath(\"//span[@class='goods-name']/text()\").get(),\n",
    "            'current_price': response.xpath(\"//span[@class='price-commission__current-price']/text()\").get(),\n",
    "            'old_price': shw(response.xpath(\"//del[@class='price-commission__old-price']/text()\").get()),\n",
    "            'img_url': response.xpath(\"//div[@class='product-card__img-wrap']/img/@src\").get(),\n",
    "        }\n",
    "        "
   ]
  },
  {
   "cell_type": "markdown",
   "metadata": {},
   "source": [
    "### Парсинг"
   ]
  },
  {
   "cell_type": "code",
   "execution_count": 4,
   "metadata": {},
   "outputs": [
    {
     "name": "stderr",
     "output_type": "stream",
     "text": [
      "2021-10-19 00:16:18 [scrapy.utils.log] INFO: Scrapy 2.5.1 started (bot: scrapybot)\n",
      "2021-10-19 00:16:18 [scrapy.utils.log] INFO: Versions: lxml 4.5.0.0, libxml2 2.9.9, cssselect 1.1.0, parsel 1.6.0, w3lib 1.22.0, Twisted 21.7.0, Python 3.7.6 (default, Jan  8 2020, 13:42:34) - [Clang 4.0.1 (tags/RELEASE_401/final)], pyOpenSSL 19.1.0 (OpenSSL 1.1.1d  10 Sep 2019), cryptography 2.8, Platform Darwin-20.2.0-x86_64-i386-64bit\n",
      "2021-10-19 00:16:18 [scrapy.utils.log] DEBUG: Using reactor: twisted.internet.selectreactor.SelectReactor\n",
      "2021-10-19 00:16:18 [scrapy.crawler] INFO: Overridden settings:\n",
      "{'LOG_LEVEL': 30,\n",
      " 'USER_AGENT': 'Mozilla/4.0 (compatible; MSIE 7.0; Windows NT 5.1)'}\n"
     ]
    },
    {
     "data": {
      "text/plain": [
       "<Deferred at 0x7f9b77b9cbd0>"
      ]
     },
     "execution_count": 4,
     "metadata": {},
     "output_type": "execute_result"
    }
   ],
   "source": [
    "process = CrawlerProcess({\n",
    "    'USER_AGENT': 'Mozilla/4.0 (compatible; MSIE 7.0; Windows NT 5.1)'\n",
    "})\n",
    "\n",
    "process.crawl(QuotesSpider)\n",
    "process.start()"
   ]
  },
  {
   "cell_type": "markdown",
   "metadata": {},
   "source": [
    "### Обзор полученных данных"
   ]
  },
  {
   "cell_type": "code",
   "execution_count": 5,
   "metadata": {},
   "outputs": [
    {
     "data": {
      "text/html": [
       "<div>\n",
       "<style scoped>\n",
       "    .dataframe tbody tr th:only-of-type {\n",
       "        vertical-align: middle;\n",
       "    }\n",
       "\n",
       "    .dataframe tbody tr th {\n",
       "        vertical-align: top;\n",
       "    }\n",
       "\n",
       "    .dataframe thead th {\n",
       "        text-align: right;\n",
       "    }\n",
       "</style>\n",
       "<table border=\"1\" class=\"dataframe\">\n",
       "  <thead>\n",
       "    <tr style=\"text-align: right;\">\n",
       "      <th></th>\n",
       "      <th>name</th>\n",
       "      <th>current_price</th>\n",
       "      <th>old_price</th>\n",
       "      <th>img_url</th>\n",
       "    </tr>\n",
       "  </thead>\n",
       "  <tbody>\n",
       "    <tr>\n",
       "      <th>0</th>\n",
       "      <td>Да, ваш ребенок - гений!</td>\n",
       "      <td>1 553 ₽</td>\n",
       "      <td>2 560 ₽</td>\n",
       "      <td>//images.wbstatic.net/c324x432/new/17040000/17...</td>\n",
       "    </tr>\n",
       "    <tr>\n",
       "      <th>1</th>\n",
       "      <td>Смартфон</td>\n",
       "      <td>20 186 ₽</td>\n",
       "      <td>21 990 ₽</td>\n",
       "      <td>//images.wbstatic.net/c324x432/new/30130000/30...</td>\n",
       "    </tr>\n",
       "    <tr>\n",
       "      <th>2</th>\n",
       "      <td>Крем для лица с Алоэ Вера/питает кожу/ увлажня...</td>\n",
       "      <td>845 ₽</td>\n",
       "      <td>1 700 ₽</td>\n",
       "      <td>//images.wbstatic.net/c324x432/new/41480000/41...</td>\n",
       "    </tr>\n",
       "    <tr>\n",
       "      <th>3</th>\n",
       "      <td>Настольная карточная игра Хугермугер Сиквел</td>\n",
       "      <td>562 ₽</td>\n",
       "      <td>1 000 ₽</td>\n",
       "      <td>//images.wbstatic.net/c324x432/new/7530000/753...</td>\n",
       "    </tr>\n",
       "    <tr>\n",
       "      <th>4</th>\n",
       "      <td>Телевизор UE55TU7090UXRU / 55\" / 4K UHD / Blue...</td>\n",
       "      <td>47 675 ₽</td>\n",
       "      <td>54 990 ₽</td>\n",
       "      <td>//images.wbstatic.net/c324x432/new/14880000/14...</td>\n",
       "    </tr>\n",
       "    <tr>\n",
       "      <th>5</th>\n",
       "      <td>Ноутбук AMD Ryzen 3 4300U / 8 ГБ / 512 Гб / 15...</td>\n",
       "      <td>47 818 ₽</td>\n",
       "      <td>52 090 ₽</td>\n",
       "      <td>//images.wbstatic.net/c324x432/new/34210000/34...</td>\n",
       "    </tr>\n",
       "    <tr>\n",
       "      <th>6</th>\n",
       "      <td>Постельное белье комплект КПБ жатый Сатин хлоп...</td>\n",
       "      <td>9 496 ₽</td>\n",
       "      <td>14 000 ₽</td>\n",
       "      <td>//images.wbstatic.net/c324x432/new/29990000/29...</td>\n",
       "    </tr>\n",
       "    <tr>\n",
       "      <th>7</th>\n",
       "      <td>Платье /Платье женское повседневное /Офисное ж...</td>\n",
       "      <td>2 077 ₽</td>\n",
       "      <td>8 400 ₽</td>\n",
       "      <td>//images.wbstatic.net/c324x432/new/25170000/25...</td>\n",
       "    </tr>\n",
       "    <tr>\n",
       "      <th>8</th>\n",
       "      <td>Ботинки женские / Осенние/ Обувь женская/Ботин...</td>\n",
       "      <td>3 405 ₽</td>\n",
       "      <td>9 540 ₽</td>\n",
       "      <td>//images.wbstatic.net/c324x432/new/42340000/42...</td>\n",
       "    </tr>\n",
       "    <tr>\n",
       "      <th>9</th>\n",
       "      <td>Фотообои/Фотообои на стену/Фотообои флизелинов...</td>\n",
       "      <td>2 864 ₽</td>\n",
       "      <td>5 731 ₽</td>\n",
       "      <td>//images.wbstatic.net/c324x432/new/37930000/37...</td>\n",
       "    </tr>\n",
       "  </tbody>\n",
       "</table>\n",
       "</div>"
      ],
      "text/plain": [
       "                                                name current_price old_price  \\\n",
       "0                           Да, ваш ребенок - гений!       1 553 ₽   2 560 ₽   \n",
       "1                                           Смартфон      20 186 ₽  21 990 ₽   \n",
       "2  Крем для лица с Алоэ Вера/питает кожу/ увлажня...         845 ₽   1 700 ₽   \n",
       "3        Настольная карточная игра Хугермугер Сиквел         562 ₽   1 000 ₽   \n",
       "4  Телевизор UE55TU7090UXRU / 55\" / 4K UHD / Blue...      47 675 ₽  54 990 ₽   \n",
       "5  Ноутбук AMD Ryzen 3 4300U / 8 ГБ / 512 Гб / 15...      47 818 ₽  52 090 ₽   \n",
       "6  Постельное белье комплект КПБ жатый Сатин хлоп...       9 496 ₽  14 000 ₽   \n",
       "7  Платье /Платье женское повседневное /Офисное ж...       2 077 ₽   8 400 ₽   \n",
       "8  Ботинки женские / Осенние/ Обувь женская/Ботин...       3 405 ₽   9 540 ₽   \n",
       "9  Фотообои/Фотообои на стену/Фотообои флизелинов...       2 864 ₽   5 731 ₽   \n",
       "\n",
       "                                             img_url  \n",
       "0  //images.wbstatic.net/c324x432/new/17040000/17...  \n",
       "1  //images.wbstatic.net/c324x432/new/30130000/30...  \n",
       "2  //images.wbstatic.net/c324x432/new/41480000/41...  \n",
       "3  //images.wbstatic.net/c324x432/new/7530000/753...  \n",
       "4  //images.wbstatic.net/c324x432/new/14880000/14...  \n",
       "5  //images.wbstatic.net/c324x432/new/34210000/34...  \n",
       "6  //images.wbstatic.net/c324x432/new/29990000/29...  \n",
       "7  //images.wbstatic.net/c324x432/new/25170000/25...  \n",
       "8  //images.wbstatic.net/c324x432/new/42340000/42...  \n",
       "9  //images.wbstatic.net/c324x432/new/37930000/37...  "
      ]
     },
     "execution_count": 5,
     "metadata": {},
     "output_type": "execute_result"
    }
   ],
   "source": [
    "wildberries_dataset = pd.read_json('data/wildberries/wildberries_data.json')\n",
    "wildberries_dataset.head(10)"
   ]
  },
  {
   "cell_type": "code",
   "execution_count": 6,
   "metadata": {},
   "outputs": [
    {
     "name": "stdout",
     "output_type": "stream",
     "text": [
      "<class 'pandas.core.frame.DataFrame'>\n",
      "RangeIndex: 52 entries, 0 to 51\n",
      "Data columns (total 4 columns):\n",
      " #   Column         Non-Null Count  Dtype \n",
      "---  ------         --------------  ----- \n",
      " 0   name           52 non-null     object\n",
      " 1   current_price  52 non-null     object\n",
      " 2   old_price      52 non-null     object\n",
      " 3   img_url        52 non-null     object\n",
      "dtypes: object(4)\n",
      "memory usage: 1.8+ KB\n"
     ]
    }
   ],
   "source": [
    "wildberries_dataset.info()"
   ]
  },
  {
   "cell_type": "markdown",
   "metadata": {},
   "source": [
    "Получилось 52 непустых объекта"
   ]
  },
  {
   "cell_type": "code",
   "execution_count": null,
   "metadata": {},
   "outputs": [],
   "source": []
  }
 ],
 "metadata": {
  "kernelspec": {
   "display_name": "Python 3",
   "language": "python",
   "name": "python3"
  },
  "language_info": {
   "codemirror_mode": {
    "name": "ipython",
    "version": 3
   },
   "file_extension": ".py",
   "mimetype": "text/x-python",
   "name": "python",
   "nbconvert_exporter": "python",
   "pygments_lexer": "ipython3",
   "version": "3.7.6"
  }
 },
 "nbformat": 4,
 "nbformat_minor": 4
}
