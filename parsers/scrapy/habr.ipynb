{
 "cells": [
  {
   "cell_type": "markdown",
   "metadata": {},
   "source": [
    "## Парсер на основе библиотеки Scrapy"
   ]
  },
  {
   "cell_type": "code",
   "execution_count": 1,
   "metadata": {},
   "outputs": [],
   "source": [
    "import platform\n",
    "import scrapy\n",
    "import logging\n",
    "from scrapy.crawler import CrawlerProcess\n",
    "import pandas as pd\n",
    "from w3lib.html import strip_html5_whitespace as shw\n",
    "from IPython.core.interactiveshell import InteractiveShell\n",
    "import warnings\n",
    "warnings.filterwarnings('ignore')\n",
    "InteractiveShell.ast_node_interactivity = \"all\""
   ]
  },
  {
   "cell_type": "markdown",
   "metadata": {},
   "source": [
    "### Настройка пайплайнов\n",
    "Класс `JsonWriterPipeline` создает пайплайн, в который пишет все найденные элементы в формат `JSON`.\n",
    "Все данные будут сохраняться в два файл: первый с расширением `.json`, второй с расширением `.jl` (в нем каждый элемент json находится на новой странице)."
   ]
  },
  {
   "cell_type": "code",
   "execution_count": 2,
   "metadata": {},
   "outputs": [],
   "source": [
    "import json\n",
    "\n",
    "class JsonWriterPipeline(object):\n",
    "\n",
    "    def open_spider(self, spider):\n",
    "        self.file = open('data/habr/habr_data.jl', 'w')\n",
    "\n",
    "    def close_spider(self, spider):\n",
    "        self.file.close()\n",
    "\n",
    "    def process_item(self, item, spider):\n",
    "        line = json.dumps(dict(item)) + \"\\n\"\n",
    "        self.file.write(line)\n",
    "        return item"
   ]
  },
  {
   "cell_type": "markdown",
   "metadata": {},
   "source": [
    "### Создание класса для парсинга\n",
    "В списке `start_urls` генерируются URL страниц, из которых нужно извлечь информацию: \n",
    "- `time` - время публикации статьи\n",
    "- `tags` - теги статьи\n",
    "- `habs` - хабы (тематика)\n",
    "- `saved` - количество сохранений"
   ]
  },
  {
   "cell_type": "code",
   "execution_count": 3,
   "metadata": {},
   "outputs": [],
   "source": [
    "class QuotesSpider(scrapy.Spider):\n",
    "    name = \"quotes\"\n",
    "    start_urls = [\n",
    "        'https://habr.com/ru/post/{0}/'.format(i) for i in range(450000, 450100)\n",
    "    ]\n",
    "    custom_settings = {\n",
    "        'LOG_LEVEL': logging.WARNING,\n",
    "        'ITEM_PIPELINES': {'__main__.JsonWriterPipeline': 1},\n",
    "        'FEED_FORMAT':'json',                               \n",
    "        'FEED_URI': 'data/habr/habr_data.json'                      \n",
    "    }\n",
    "    \n",
    "    def parse(self, response):\n",
    "        yield {\n",
    "            'time': shw(response.xpath(\"//span[@class='tm-article-snippet__datetime-published']/time/@datetime\").get()),\n",
    "            'tags': [shw(result.lower()) \n",
    "                         for result in response.xpath(\"//a[@class='tm-tags-list__link']/text()\").getall()],\n",
    "            'habs': [shw(result.lower()) \n",
    "                         for result in response.xpath(\"//a[@class='tm-hubs-list__link']/text()\").getall()],\n",
    "            'saved': shw(response.xpath(\"//span[@class='bookmarks-button__counter']/text()\").get()),\n",
    "            }\n",
    "        "
   ]
  },
  {
   "cell_type": "markdown",
   "metadata": {},
   "source": [
    "### Парсинг"
   ]
  },
  {
   "cell_type": "code",
   "execution_count": 4,
   "metadata": {},
   "outputs": [
    {
     "name": "stderr",
     "output_type": "stream",
     "text": [
      "2021-10-17 19:37:45 [scrapy.utils.log] INFO: Scrapy 2.5.1 started (bot: scrapybot)\n",
      "2021-10-17 19:37:45 [scrapy.utils.log] INFO: Versions: lxml 4.5.0.0, libxml2 2.9.9, cssselect 1.1.0, parsel 1.6.0, w3lib 1.22.0, Twisted 21.7.0, Python 3.7.6 (default, Jan  8 2020, 13:42:34) - [Clang 4.0.1 (tags/RELEASE_401/final)], pyOpenSSL 19.1.0 (OpenSSL 1.1.1d  10 Sep 2019), cryptography 2.8, Platform Darwin-20.2.0-x86_64-i386-64bit\n",
      "2021-10-17 19:37:45 [scrapy.utils.log] DEBUG: Using reactor: twisted.internet.selectreactor.SelectReactor\n",
      "2021-10-17 19:37:45 [scrapy.crawler] INFO: Overridden settings:\n",
      "{'LOG_LEVEL': 30,\n",
      " 'USER_AGENT': 'Mozilla/4.0 (compatible; MSIE 7.0; Windows NT 5.1)'}\n"
     ]
    },
    {
     "data": {
      "text/plain": [
       "<Deferred at 0x7f8ad4d9db90>"
      ]
     },
     "execution_count": 4,
     "metadata": {},
     "output_type": "execute_result"
    }
   ],
   "source": [
    "process = CrawlerProcess({\n",
    "    'USER_AGENT': 'Mozilla/4.0 (compatible; MSIE 7.0; Windows NT 5.1)'\n",
    "})\n",
    "\n",
    "process.crawl(QuotesSpider)\n",
    "process.start()"
   ]
  },
  {
   "cell_type": "markdown",
   "metadata": {},
   "source": [
    "### Обзор полученных данных"
   ]
  },
  {
   "cell_type": "code",
   "execution_count": 5,
   "metadata": {},
   "outputs": [
    {
     "data": {
      "text/html": [
       "<div>\n",
       "<style scoped>\n",
       "    .dataframe tbody tr th:only-of-type {\n",
       "        vertical-align: middle;\n",
       "    }\n",
       "\n",
       "    .dataframe tbody tr th {\n",
       "        vertical-align: top;\n",
       "    }\n",
       "\n",
       "    .dataframe thead th {\n",
       "        text-align: right;\n",
       "    }\n",
       "</style>\n",
       "<table border=\"1\" class=\"dataframe\">\n",
       "  <thead>\n",
       "    <tr style=\"text-align: right;\">\n",
       "      <th></th>\n",
       "      <th>time</th>\n",
       "      <th>tags</th>\n",
       "      <th>habs</th>\n",
       "      <th>saved</th>\n",
       "    </tr>\n",
       "  </thead>\n",
       "  <tbody>\n",
       "    <tr>\n",
       "      <th>0</th>\n",
       "      <td>2019-04-29T13:48:10.000Z</td>\n",
       "      <td>[lru, mru, cache]</td>\n",
       "      <td>[высокая производительность, программирование,...</td>\n",
       "      <td>100</td>\n",
       "    </tr>\n",
       "    <tr>\n",
       "      <th>1</th>\n",
       "      <td>2019-04-29T13:43:19.000Z</td>\n",
       "      <td>[арабский язык, ltr, rtl, unicode]</td>\n",
       "      <td>[разработка веб-сайтов, типографика, дизайн]</td>\n",
       "      <td>21</td>\n",
       "    </tr>\n",
       "    <tr>\n",
       "      <th>2</th>\n",
       "      <td>2019-04-29T15:55:25.000Z</td>\n",
       "      <td>[фотография, резервное копирование, облако, li...</td>\n",
       "      <td>[резервное копирование, хранение данных, фотот...</td>\n",
       "      <td>157</td>\n",
       "    </tr>\n",
       "    <tr>\n",
       "      <th>3</th>\n",
       "      <td>2019-04-29T14:32:29.000Z</td>\n",
       "      <td>[формальная верификация, формальные методы, ре...</td>\n",
       "      <td>[децентрализованные сети, информационная безоп...</td>\n",
       "      <td>46</td>\n",
       "    </tr>\n",
       "    <tr>\n",
       "      <th>4</th>\n",
       "      <td>2019-04-29T13:57:01.000Z</td>\n",
       "      <td>[охлаждение цод, цод, чиллерное охлаждение]</td>\n",
       "      <td>[хостинг, it-инфраструктура, it-компании, инже...</td>\n",
       "      <td>7</td>\n",
       "    </tr>\n",
       "    <tr>\n",
       "      <th>5</th>\n",
       "      <td>2019-04-30T07:00:03.000Z</td>\n",
       "      <td>[гироид, минимальные поверхности]</td>\n",
       "      <td>[математика, научно-популярное]</td>\n",
       "      <td>46</td>\n",
       "    </tr>\n",
       "    <tr>\n",
       "      <th>6</th>\n",
       "      <td>2019-04-30T05:15:04.000Z</td>\n",
       "      <td>[сша, образование, summit learning]</td>\n",
       "      <td>[образование за рубежом, будущее здесь]</td>\n",
       "      <td>43</td>\n",
       "    </tr>\n",
       "    <tr>\n",
       "      <th>7</th>\n",
       "      <td>2019-04-29T13:43:52.000Z</td>\n",
       "      <td>[c++, clang, llvm, compiler, pvs-studio, open ...</td>\n",
       "      <td>[open source, c++, компиляторы, devops]</td>\n",
       "      <td>1</td>\n",
       "    </tr>\n",
       "    <tr>\n",
       "      <th>8</th>\n",
       "      <td>2019-04-29T14:21:44.000Z</td>\n",
       "      <td>[россвязь, чс, оповещения, законодательство]</td>\n",
       "      <td>[разработка систем связи, законодательство в it]</td>\n",
       "      <td>2</td>\n",
       "    </tr>\n",
       "    <tr>\n",
       "      <th>9</th>\n",
       "      <td>2019-04-30T12:00:01.000Z</td>\n",
       "      <td>[oculus, rift s, шлем виртуальной реальности]</td>\n",
       "      <td>[ar и vr]</td>\n",
       "      <td>6</td>\n",
       "    </tr>\n",
       "  </tbody>\n",
       "</table>\n",
       "</div>"
      ],
      "text/plain": [
       "                       time  \\\n",
       "0  2019-04-29T13:48:10.000Z   \n",
       "1  2019-04-29T13:43:19.000Z   \n",
       "2  2019-04-29T15:55:25.000Z   \n",
       "3  2019-04-29T14:32:29.000Z   \n",
       "4  2019-04-29T13:57:01.000Z   \n",
       "5  2019-04-30T07:00:03.000Z   \n",
       "6  2019-04-30T05:15:04.000Z   \n",
       "7  2019-04-29T13:43:52.000Z   \n",
       "8  2019-04-29T14:21:44.000Z   \n",
       "9  2019-04-30T12:00:01.000Z   \n",
       "\n",
       "                                                tags  \\\n",
       "0                                  [lru, mru, cache]   \n",
       "1                 [арабский язык, ltr, rtl, unicode]   \n",
       "2  [фотография, резервное копирование, облако, li...   \n",
       "3  [формальная верификация, формальные методы, ре...   \n",
       "4        [охлаждение цод, цод, чиллерное охлаждение]   \n",
       "5                  [гироид, минимальные поверхности]   \n",
       "6                [сша, образование, summit learning]   \n",
       "7  [c++, clang, llvm, compiler, pvs-studio, open ...   \n",
       "8       [россвязь, чс, оповещения, законодательство]   \n",
       "9      [oculus, rift s, шлем виртуальной реальности]   \n",
       "\n",
       "                                                habs  saved  \n",
       "0  [высокая производительность, программирование,...    100  \n",
       "1       [разработка веб-сайтов, типографика, дизайн]     21  \n",
       "2  [резервное копирование, хранение данных, фотот...    157  \n",
       "3  [децентрализованные сети, информационная безоп...     46  \n",
       "4  [хостинг, it-инфраструктура, it-компании, инже...      7  \n",
       "5                    [математика, научно-популярное]     46  \n",
       "6            [образование за рубежом, будущее здесь]     43  \n",
       "7            [open source, c++, компиляторы, devops]      1  \n",
       "8   [разработка систем связи, законодательство в it]      2  \n",
       "9                                          [ar и vr]      6  "
      ]
     },
     "execution_count": 5,
     "metadata": {},
     "output_type": "execute_result"
    }
   ],
   "source": [
    "habr_dataset = pd.read_json('data/habr/habr_data.json')\n",
    "habr_dataset.head(10)"
   ]
  },
  {
   "cell_type": "code",
   "execution_count": 6,
   "metadata": {},
   "outputs": [
    {
     "name": "stdout",
     "output_type": "stream",
     "text": [
      "<class 'pandas.core.frame.DataFrame'>\n",
      "RangeIndex: 48 entries, 0 to 47\n",
      "Data columns (total 4 columns):\n",
      " #   Column  Non-Null Count  Dtype \n",
      "---  ------  --------------  ----- \n",
      " 0   time    48 non-null     object\n",
      " 1   tags    48 non-null     object\n",
      " 2   habs    48 non-null     object\n",
      " 3   saved   48 non-null     int64 \n",
      "dtypes: int64(1), object(3)\n",
      "memory usage: 1.6+ KB\n"
     ]
    }
   ],
   "source": [
    "habr_dataset.info()"
   ]
  },
  {
   "cell_type": "markdown",
   "metadata": {},
   "source": [
    "Получилось 48 непустых объектов (было сгенерировано 100 страниц, но так как некоторые посты были удалены, информация с них не была скачена)"
   ]
  },
  {
   "cell_type": "code",
   "execution_count": null,
   "metadata": {},
   "outputs": [],
   "source": []
  }
 ],
 "metadata": {
  "kernelspec": {
   "display_name": "Python 3",
   "language": "python",
   "name": "python3"
  },
  "language_info": {
   "codemirror_mode": {
    "name": "ipython",
    "version": 3
   },
   "file_extension": ".py",
   "mimetype": "text/x-python",
   "name": "python",
   "nbconvert_exporter": "python",
   "pygments_lexer": "ipython3",
   "version": "3.7.6"
  }
 },
 "nbformat": 4,
 "nbformat_minor": 4
}
