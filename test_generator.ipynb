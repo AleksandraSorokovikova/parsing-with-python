{
 "cells": [
  {
   "cell_type": "code",
   "execution_count": 6,
   "id": "b641b8c2",
   "metadata": {},
   "outputs": [],
   "source": [
    "import requests\n",
    "\n",
    "search = [\n",
    "    'kupit-{0}-komnatnuyu-kvartiru/',\n",
    "    'snyat-{0}-komnatnuyu-kvartiru/'\n",
    "]\n",
    "\n",
    "cities = [\n",
    "    'spb',\n",
    "    'ekb', \n",
    "    'irkutsk', \n",
    "    'tula',\n",
    "    'omsk'\n",
    "]\n",
    "\n",
    "cnt = 1\n",
    "for city in cities:\n",
    "    for s in search:\n",
    "        for i in range(1, 6):\n",
    "            response = requests.get('https://' + city + '.cian.ru/' + s.format(i))\n",
    "            if response.status_code == 200:\n",
    "                response.encoding = 'utf-8'\n",
    "                file = open('test_source/test{0}.html'.format(cnt), 'w')\n",
    "                file.write(response.text)\n",
    "                file.close()\n",
    "                cnt += 1"
   ]
  },
  {
   "cell_type": "code",
   "execution_count": null,
   "id": "ee7d29fd",
   "metadata": {},
   "outputs": [],
   "source": []
  }
 ],
 "metadata": {
  "kernelspec": {
   "display_name": "Python 3 (ipykernel)",
   "language": "python",
   "name": "python3"
  },
  "language_info": {
   "codemirror_mode": {
    "name": "ipython",
    "version": 3
   },
   "file_extension": ".py",
   "mimetype": "text/x-python",
   "name": "python",
   "nbconvert_exporter": "python",
   "pygments_lexer": "ipython3",
   "version": "3.9.7"
  }
 },
 "nbformat": 4,
 "nbformat_minor": 5
}
